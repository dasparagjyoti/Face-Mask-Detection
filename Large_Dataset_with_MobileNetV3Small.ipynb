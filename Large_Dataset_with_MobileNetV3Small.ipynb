{
  "nbformat": 4,
  "nbformat_minor": 0,
  "metadata": {
    "colab": {
      "name": "Large Dataset with MobileNetV3Small",
      "provenance": []
    },
    "kernelspec": {
      "name": "python3",
      "display_name": "Python 3"
    },
    "language_info": {
      "name": "python"
    }
  },
  "cells": [
    {
      "cell_type": "code",
      "metadata": {
        "colab": {
          "base_uri": "https://localhost:8080/"
        },
        "id": "U7y6Oyw3JdiZ",
        "outputId": "a6fe9a5f-c40c-49bf-de33-5fae666a5768"
      },
      "source": [
        "! git clone https://github.com/dasparagjyoti/Face_Mask_New.git"
      ],
      "execution_count": null,
      "outputs": [
        {
          "output_type": "stream",
          "text": [
            "Cloning into 'Face_Mask_New'...\n",
            "remote: Enumerating objects: 11093, done.\u001b[K\n",
            "remote: Total 11093 (delta 0), reused 0 (delta 0), pack-reused 11093\u001b[K\n",
            "Receiving objects: 100% (11093/11093), 251.83 MiB | 33.90 MiB/s, done.\n",
            "Checking out files: 100% (11391/11391), done.\n"
          ],
          "name": "stdout"
        }
      ]
    },
    {
      "cell_type": "code",
      "metadata": {
        "id": "6B_zY3ah7Rxq",
        "colab": {
          "base_uri": "https://localhost:8080/"
        },
        "outputId": "64bdc6ee-2985-4d88-f7d2-9a8ea7cc98ee"
      },
      "source": [
        "from tensorflow.keras.preprocessing.image import ImageDataGenerator\n",
        "from tensorflow.keras.applications import MobileNetV3Small\n",
        "from tensorflow.keras.layers import AveragePooling2D\n",
        "from tensorflow.keras.layers import Dropout\n",
        "from tensorflow.keras.layers import Flatten\n",
        "from tensorflow.keras.layers import Dense\n",
        "from tensorflow.keras.layers import Input\n",
        "from tensorflow.keras.models import Model\n",
        "from tensorflow.keras.optimizers import Adam\n",
        "from tensorflow.keras.applications.mobilenet_v2 import preprocess_input\n",
        "from tensorflow.keras.preprocessing.image import img_to_array\n",
        "from tensorflow.keras.preprocessing.image import load_img\n",
        "from tensorflow.keras.utils import to_categorical\n",
        "from sklearn.preprocessing import LabelBinarizer\n",
        "from sklearn.model_selection import train_test_split\n",
        "from sklearn.metrics import classification_report\n",
        "from imutils import paths\n",
        "import matplotlib.pyplot as plt\n",
        "import numpy as np\n",
        "import os\n",
        "\n",
        "# initialize the initial learning rate, number of epochs to train for,\n",
        "# and batch size\n",
        "INIT_LR = 1e-4\n",
        "EPOCHS = 20\n",
        "BS = 64\n",
        "\n",
        "DIRECTORY = r\"/content/Face_Mask_New/Face_Mask_Detection/dataset\"\n",
        "CATEGORIES = [ \"improper_mask\", \"with_mask\", \"without_mask\"]\n",
        "\n",
        "# grab the list of images in our dataset directory, then initialize\n",
        "# the list of data (i.e., images) and class images\n",
        "print(\"[INFO] loading images...\")\n",
        "\n",
        "# data = []\n",
        "# labels = []\n",
        "\n",
        "# for category in CATEGORIES:\n",
        "#     print(\"CATEGORY:\", category)\n",
        "#     path = os.path.join(DIRECTORY, category)\n",
        "#     for img in os.listdir(path):\n",
        "#       print(\"IMG\", img)\n",
        "#       img_path = os.path.join(path, img)\n",
        "#       image = load_img(img_path, target_size=(224, 224))\n",
        "#       image = img_to_array(image)\n",
        "#       image = preprocess_input(image)\n",
        "\n",
        "#       data.append(image)\n",
        "#       labels.append(category)\n",
        "\n",
        "# # perform one-hot encoding on the labels\n",
        "# lb = LabelBinarizer()\n",
        "# labels = lb.fit_transform(labels)\n",
        "\n",
        "# data = np.array(data, dtype=\"float32\")\n",
        "# labels = np.array(labels)\n",
        "\n",
        "# #split into train,test and validation \n",
        "# trainX, testX, trainY, testY = train_test_split(data,labels,test_size=0.2,train_size=0.8,stratify=labels, random_state=42)\n",
        "# X_train, X_cv, Y_train, Y_cv = train_test_split(trainX,trainY,test_size = 0.25,train_size =0.75,stratify=trainY, random_state=42)\n",
        "\n",
        "\n",
        "# construct the training image generator for data augmentation\n",
        "train_datagen = ImageDataGenerator(\n",
        "\trotation_range=20,\n",
        "\tzoom_range=0.15,\n",
        "\twidth_shift_range=0.2,\n",
        "\theight_shift_range=0.2,\n",
        "\tshear_range=0.15,\n",
        "\thorizontal_flip=True,\n",
        "\tfill_mode=\"nearest\",\n",
        "  validation_split = 0.2\n",
        "  )\n",
        "\n",
        "val_datagen = ImageDataGenerator(\n",
        "    validation_split = 0.2\n",
        ")\n",
        "\n",
        "train_data = train_datagen.flow_from_directory(\n",
        "    directory = \"/content/Face_Mask_New/Face_Mask_Detection/dataset\",\n",
        "    target_size = (224, 224),\n",
        "    class_mode=\"categorical\",\n",
        "    batch_size=BS,\n",
        "    shuffle=True,\n",
        "    seed=42,\n",
        "    subset = \"training\"\n",
        ")\n",
        "val_data = val_datagen.flow_from_directory(\n",
        "    directory = \"/content/Face_Mask_New/Face_Mask_Detection/dataset\",\n",
        "    target_size = (224, 224),\n",
        "    class_mode=\"categorical\",\n",
        "    batch_size=BS,\n",
        "    shuffle=True,\n",
        "    seed=42,\n",
        "    subset = \"validation\"\n",
        ")\n",
        "\n",
        "# load the MobileNetV2 network, ensuring the head FC layer sets are\n",
        "# left off\n",
        "baseModel = MobileNetV3Large(weights=\"imagenet\", include_top=False,\n",
        "\tinput_tensor=Input(shape=(224, 224, 3)))\n",
        "for layer in baseModel.layers:\n",
        "\tlayer.trainable = False\n",
        "\n",
        "\n",
        "# construct the head of the model that will be placed on top of the\n",
        "# the base model\n",
        "headModel = baseModel.output\n",
        "headModel = AveragePooling2D(pool_size=(7, 7))(headModel)\n",
        "headModel = Flatten(name=\"flatten\")(headModel)\n",
        "headModel = Dense(128, activation=\"relu\")(headModel)\n",
        "headModel = Dropout(0.5)(headModel)\n",
        "headModel = Dense(3, activation=\"softmax\")(headModel)\n",
        "\n",
        "# place the head FC model on top of the base model (this will become\n",
        "# the actual model we will train)\n",
        "model = Model(inputs=baseModel.input, outputs=headModel)\n",
        "\n",
        "# loop over all layers in the base model and freeze them so they will\n",
        "# *not* be updated during the first training process\n",
        "\n",
        "\n",
        "# compile our model\n",
        "print(\"[INFO] compiling model...\")\n",
        "opt = Adam(lr=INIT_LR, decay=INIT_LR / EPOCHS)\n",
        "model.compile(loss=\"categorical_crossentropy\", optimizer=opt,\n",
        "\tmetrics=[\"accuracy\"])\n",
        "\n",
        "# train the head of the network\n",
        "print(\"[INFO] training head...\")\n",
        "H = model.fit(\n",
        "\ttrain_data,\n",
        "\tsteps_per_epoch=train_data.__len__(),\n",
        "\tvalidation_data=val_data,\n",
        "  epochs=EPOCHS)\n",
        "\n",
        "# make predictions on the testing set\n",
        "print(\"[INFO] evaluating network...\")\n",
        "# predIdxs = model.predict(testX, batch_size=BS)\n",
        "#predIdxs1 = model.predict(valX, batch_size=BS)\n",
        "\n",
        "# for each image in the testing set we need to find the index of the\n",
        "# label with corresponding largest predicted probability\n",
        "# predIdxs = np.argmax(predIdxs, axis=1)\n",
        "# predIdxs1 = np.argmax(predIdxs1, axis=1)\n",
        "# show a nicely formatted classification report\n",
        "# print(classification_report(testY.argmax(axis=1), predIdxs,\n",
        "\t# target_names=lb.classes_))\n",
        "\n",
        "# serialize the model to disk\n",
        "print(\"[INFO] saving mask detector model...\")\n",
        "model.save(\"mask_detector.model\", save_format=\"h5\")\n",
        "\n"
      ],
      "execution_count": null,
      "outputs": [
        {
          "output_type": "stream",
          "text": [
            "[INFO] loading images...\n",
            "Found 9108 images belonging to 3 classes.\n",
            "Found 2276 images belonging to 3 classes.\n",
            "[INFO] compiling model...\n",
            "[INFO] training head...\n"
          ],
          "name": "stdout"
        },
        {
          "output_type": "stream",
          "text": [
            "/usr/local/lib/python3.7/dist-packages/tensorflow/python/keras/optimizer_v2/optimizer_v2.py:375: UserWarning: The `lr` argument is deprecated, use `learning_rate` instead.\n",
            "  \"The `lr` argument is deprecated, use `learning_rate` instead.\")\n"
          ],
          "name": "stderr"
        },
        {
          "output_type": "stream",
          "text": [
            "Epoch 1/20\n",
            "  8/143 [>.............................] - ETA: 4:36 - loss: 1.6276 - accuracy: 0.3184"
          ],
          "name": "stdout"
        },
        {
          "output_type": "stream",
          "text": [
            "/usr/local/lib/python3.7/dist-packages/PIL/Image.py:960: UserWarning: Palette images with Transparency expressed in bytes should be converted to RGBA images\n",
            "  \"Palette images with Transparency expressed in bytes should be \"\n"
          ],
          "name": "stderr"
        },
        {
          "output_type": "stream",
          "text": [
            "143/143 [==============================] - 353s 2s/step - loss: 0.6638 - accuracy: 0.7296 - val_loss: 0.2138 - val_accuracy: 0.9359\n",
            "Epoch 2/20\n",
            "143/143 [==============================] - 346s 2s/step - loss: 0.3031 - accuracy: 0.8900 - val_loss: 0.1435 - val_accuracy: 0.9565\n",
            "Epoch 3/20\n",
            "143/143 [==============================] - 348s 2s/step - loss: 0.2333 - accuracy: 0.9171 - val_loss: 0.1105 - val_accuracy: 0.9684\n",
            "Epoch 4/20\n",
            "143/143 [==============================] - 349s 2s/step - loss: 0.1868 - accuracy: 0.9329 - val_loss: 0.1021 - val_accuracy: 0.9710\n",
            "Epoch 5/20\n",
            "143/143 [==============================] - 347s 2s/step - loss: 0.1590 - accuracy: 0.9437 - val_loss: 0.1054 - val_accuracy: 0.9670\n",
            "Epoch 6/20\n",
            "143/143 [==============================] - 347s 2s/step - loss: 0.1437 - accuracy: 0.9515 - val_loss: 0.0865 - val_accuracy: 0.9706\n",
            "Epoch 7/20\n",
            "143/143 [==============================] - 346s 2s/step - loss: 0.1336 - accuracy: 0.9519 - val_loss: 0.0827 - val_accuracy: 0.9767\n",
            "Epoch 8/20\n",
            "143/143 [==============================] - 347s 2s/step - loss: 0.1146 - accuracy: 0.9627 - val_loss: 0.0673 - val_accuracy: 0.9824\n",
            "Epoch 9/20\n",
            "143/143 [==============================] - 347s 2s/step - loss: 0.1159 - accuracy: 0.9621 - val_loss: 0.0766 - val_accuracy: 0.9785\n",
            "Epoch 10/20\n",
            "143/143 [==============================] - 349s 2s/step - loss: 0.1086 - accuracy: 0.9628 - val_loss: 0.0618 - val_accuracy: 0.9842\n",
            "Epoch 11/20\n",
            "143/143 [==============================] - 375s 3s/step - loss: 0.1021 - accuracy: 0.9645 - val_loss: 0.0577 - val_accuracy: 0.9864\n",
            "Epoch 12/20\n",
            "143/143 [==============================] - 349s 2s/step - loss: 0.0892 - accuracy: 0.9704 - val_loss: 0.0621 - val_accuracy: 0.9829\n",
            "Epoch 13/20\n",
            "143/143 [==============================] - 350s 2s/step - loss: 0.0861 - accuracy: 0.9708 - val_loss: 0.0614 - val_accuracy: 0.9851\n",
            "Epoch 14/20\n",
            "143/143 [==============================] - 349s 2s/step - loss: 0.0839 - accuracy: 0.9712 - val_loss: 0.0646 - val_accuracy: 0.9815\n",
            "Epoch 15/20\n",
            "143/143 [==============================] - 351s 2s/step - loss: 0.0752 - accuracy: 0.9745 - val_loss: 0.0618 - val_accuracy: 0.9846\n",
            "Epoch 16/20\n",
            "143/143 [==============================] - 351s 2s/step - loss: 0.0798 - accuracy: 0.9722 - val_loss: 0.0519 - val_accuracy: 0.9877\n",
            "Epoch 17/20\n",
            "143/143 [==============================] - 345s 2s/step - loss: 0.0721 - accuracy: 0.9769 - val_loss: 0.0455 - val_accuracy: 0.9886\n",
            "Epoch 18/20\n",
            "143/143 [==============================] - 344s 2s/step - loss: 0.0709 - accuracy: 0.9752 - val_loss: 0.0435 - val_accuracy: 0.9899\n",
            "Epoch 19/20\n",
            "143/143 [==============================] - 343s 2s/step - loss: 0.0646 - accuracy: 0.9789 - val_loss: 0.0600 - val_accuracy: 0.9851\n",
            "Epoch 20/20\n",
            "143/143 [==============================] - 369s 3s/step - loss: 0.0648 - accuracy: 0.9775 - val_loss: 0.0452 - val_accuracy: 0.9895\n",
            "[INFO] evaluating network...\n",
            "[INFO] saving mask detector model...\n"
          ],
          "name": "stdout"
        },
        {
          "output_type": "stream",
          "text": [
            "/usr/local/lib/python3.7/dist-packages/tensorflow/python/keras/utils/generic_utils.py:497: CustomMaskWarning: Custom mask layers require a config and must override get_config. When loading, the custom mask layer must be passed to the custom_objects argument.\n",
            "  category=CustomMaskWarning)\n"
          ],
          "name": "stderr"
        }
      ]
    }
  ]
}