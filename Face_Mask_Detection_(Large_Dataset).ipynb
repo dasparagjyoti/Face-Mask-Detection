{
  "nbformat": 4,
  "nbformat_minor": 0,
  "metadata": {
    "colab": {
      "name": "Face-Mask-Detection (Large Dataset)",
      "provenance": [],
      "collapsed_sections": []
    },
    "kernelspec": {
      "name": "python3",
      "display_name": "Python 3"
    },
    "language_info": {
      "name": "python"
    },
    "accelerator": "GPU"
  },
  "cells": [
    {
      "cell_type": "markdown",
      "metadata": {
        "id": "B6Gh0TYq-SDs"
      },
      "source": [
        "## **Data Collection** "
      ]
    },
    {
      "cell_type": "code",
      "metadata": {
        "colab": {
          "base_uri": "https://localhost:8080/"
        },
        "id": "U7y6Oyw3JdiZ",
        "outputId": "e4a5c3e8-d301-4aed-ff70-75c5c036760c"
      },
      "source": [
        "! git clone https://github.com/dasparagjyoti/Face_Mask_New.git"
      ],
      "execution_count": null,
      "outputs": [
        {
          "output_type": "stream",
          "text": [
            "Cloning into 'Face_Mask_New'...\n",
            "remote: Enumerating objects: 11093, done.\u001b[K\n",
            "remote: Total 11093 (delta 0), reused 0 (delta 0), pack-reused 11093\u001b[K\n",
            "Receiving objects: 100% (11093/11093), 251.83 MiB | 25.69 MiB/s, done.\n",
            "Checking out files: 100% (11391/11391), done.\n"
          ],
          "name": "stdout"
        }
      ]
    },
    {
      "cell_type": "code",
      "metadata": {
        "id": "6B_zY3ah7Rxq",
        "colab": {
          "base_uri": "https://localhost:8080/"
        },
        "outputId": "bbe4f361-e6db-42a3-cf9e-bbf52ec1fc13"
      },
      "source": [
        "from tensorflow.keras.preprocessing.image import ImageDataGenerator\n",
        "from tensorflow.keras.applications import MobileNetV2\n",
        "from tensorflow.keras.layers import AveragePooling2D\n",
        "from tensorflow.keras.layers import Dropout\n",
        "from tensorflow.keras.layers import Flatten\n",
        "from tensorflow.keras.layers import Dense\n",
        "from tensorflow.keras.layers import Input\n",
        "from tensorflow.keras.models import Model\n",
        "from tensorflow.keras.optimizers import Adam\n",
        "from tensorflow.keras.applications.mobilenet_v2 import preprocess_input\n",
        "from tensorflow.keras.preprocessing.image import img_to_array\n",
        "from tensorflow.keras.preprocessing.image import load_img\n",
        "from tensorflow.keras.utils import to_categorical\n",
        "from sklearn.preprocessing import LabelBinarizer\n",
        "from sklearn.model_selection import train_test_split\n",
        "from sklearn.metrics import classification_report\n",
        "from imutils import paths\n",
        "import matplotlib.pyplot as plt\n",
        "import numpy as np\n",
        "import os\n",
        "\n",
        "# initialize the initial learning rate, number of epochs to train for,\n",
        "# and batch size\n",
        "INIT_LR = 1e-4\n",
        "EPOCHS = 20\n",
        "BS = 64\n",
        "\n",
        "DIRECTORY = r\"/content/Face_Mask_New/Face_Mask_Detection/dataset\"\n",
        "CATEGORIES = [ \"improper_mask\", \"with_mask\", \"without_mask\"]\n",
        "\n",
        "# grab the list of images in our dataset directory, then initialize\n",
        "# the list of data (i.e., images) and class images\n",
        "print(\"[INFO] loading images...\")\n",
        "\n",
        "# data = []\n",
        "# labels = []\n",
        "\n",
        "# for category in CATEGORIES:\n",
        "#     print(\"CATEGORY:\", category)\n",
        "#     path = os.path.join(DIRECTORY, category)\n",
        "#     for img in os.listdir(path):\n",
        "#       print(\"IMG\", img)\n",
        "#       img_path = os.path.join(path, img)\n",
        "#       image = load_img(img_path, target_size=(224, 224))\n",
        "#       image = img_to_array(image)\n",
        "#       image = preprocess_input(image)\n",
        "\n",
        "#       data.append(image)\n",
        "#       labels.append(category)\n",
        "\n",
        "# # perform one-hot encoding on the labels\n",
        "# lb = LabelBinarizer()\n",
        "# labels = lb.fit_transform(labels)\n",
        "\n",
        "# data = np.array(data, dtype=\"float32\")\n",
        "# labels = np.array(labels)\n",
        "\n",
        "# #split into train,test and validation \n",
        "# trainX, testX, trainY, testY = train_test_split(data,labels,test_size=0.2,train_size=0.8,stratify=labels, random_state=42)\n",
        "# X_train, X_cv, Y_train, Y_cv = train_test_split(trainX,trainY,test_size = 0.25,train_size =0.75,stratify=trainY, random_state=42)\n",
        "\n",
        "\n",
        "# construct the training image generator for data augmentation\n",
        "train_datagen = ImageDataGenerator(\n",
        "\trotation_range=20,\n",
        "\tzoom_range=0.15,\n",
        "\twidth_shift_range=0.2,\n",
        "\theight_shift_range=0.2,\n",
        "\tshear_range=0.15,\n",
        "\thorizontal_flip=True,\n",
        "\tfill_mode=\"nearest\",\n",
        "  validation_split = 0.2\n",
        "  )\n",
        "\n",
        "val_datagen = ImageDataGenerator(\n",
        "    validation_split = 0.2\n",
        ")\n",
        "\n",
        "train_data = train_datagen.flow_from_directory(\n",
        "    directory = \"/content/Face_Mask_New/Face_Mask_Detection/dataset\",\n",
        "    target_size = (224, 224),\n",
        "    class_mode=\"categorical\",\n",
        "    batch_size=BS,\n",
        "    shuffle=True,\n",
        "    seed=42,\n",
        "    subset = \"training\"\n",
        ")\n",
        "val_data = val_datagen.flow_from_directory(\n",
        "    directory = \"/content/Face_Mask_New/Face_Mask_Detection/dataset\",\n",
        "    target_size = (224, 224),\n",
        "    class_mode=\"categorical\",\n",
        "    batch_size=BS,\n",
        "    shuffle=True,\n",
        "    seed=42,\n",
        "    subset = \"validation\"\n",
        ")\n",
        "\n",
        "# load the MobileNetV2 network, ensuring the head FC layer sets are\n",
        "# left off\n",
        "baseModel = MobileNetV2(weights=\"imagenet\", include_top=False,\n",
        "\tinput_tensor=Input(shape=(224, 224, 3)))\n",
        "for layer in baseModel.layers:\n",
        "\tlayer.trainable = False\n",
        "\n",
        "\n",
        "# construct the head of the model that will be placed on top of the\n",
        "# the base model\n",
        "headModel = baseModel.output\n",
        "headModel = AveragePooling2D(pool_size=(7, 7))(headModel)\n",
        "headModel = Flatten(name=\"flatten\")(headModel)\n",
        "headModel = Dense(128, activation=\"relu\")(headModel)\n",
        "headModel = Dropout(0.3)(headModel)\n",
        "headModel = Dense(3, activation=\"softmax\")(headModel)\n",
        "\n",
        "# place the head FC model on top of the base model (this will become\n",
        "# the actual model we will train)\n",
        "model = Model(inputs=baseModel.input, outputs=headModel)\n",
        "\n",
        "# loop over all layers in the base model and freeze them so they will\n",
        "# *not* be updated during the first training process\n",
        "\n",
        "\n",
        "# compile our model\n",
        "print(\"[INFO] compiling model...\")\n",
        "opt = Adam(lr=INIT_LR, decay=INIT_LR / EPOCHS)\n",
        "model.compile(loss=\"categorical_crossentropy\", optimizer=opt,\n",
        "\tmetrics=[\"accuracy\"])\n",
        "\n",
        "# train the head of the network\n",
        "print(\"[INFO] training head...\")\n",
        "H = model.fit(\n",
        "\ttrain_data,\n",
        "\tsteps_per_epoch=train_data.__len__(),\n",
        "\tvalidation_data=val_data,\n",
        "  epochs=EPOCHS)\n",
        "\n",
        "# make predictions on the testing set\n",
        "print(\"[INFO] evaluating network...\")\n",
        "# predIdxs = model.predict(testX, batch_size=BS)\n",
        "#predIdxs1 = model.predict(valX, batch_size=BS)\n",
        "\n",
        "# for each image in the testing set we need to find the index of the\n",
        "# label with corresponding largest predicted probability\n",
        "# predIdxs = np.argmax(predIdxs, axis=1)\n",
        "# predIdxs1 = np.argmax(predIdxs1, axis=1)\n",
        "# show a nicely formatted classification report\n",
        "# print(classification_report(testY.argmax(axis=1), predIdxs,\n",
        "\t# target_names=lb.classes_))\n",
        "\n",
        "# serialize the model to disk\n",
        "print(\"[INFO] saving mask detector model...\")\n",
        "model.save(\"mask_detector.model\", save_format=\"h5\")\n",
        "\n"
      ],
      "execution_count": null,
      "outputs": [
        {
          "output_type": "stream",
          "text": [
            "[INFO] loading images...\n",
            "Found 9108 images belonging to 3 classes.\n",
            "Found 2276 images belonging to 3 classes.\n",
            "WARNING:tensorflow:`input_shape` is undefined or non-square, or `rows` is not in [96, 128, 160, 192, 224]. Weights for input shape (224, 224) will be loaded as the default.\n",
            "Downloading data from https://storage.googleapis.com/tensorflow/keras-applications/mobilenet_v2/mobilenet_v2_weights_tf_dim_ordering_tf_kernels_1.0_224_no_top.h5\n",
            "9412608/9406464 [==============================] - 0s 0us/step\n",
            "[INFO] compiling model...\n",
            "[INFO] training head...\n"
          ],
          "name": "stdout"
        },
        {
          "output_type": "stream",
          "text": [
            "/usr/local/lib/python3.7/dist-packages/tensorflow/python/keras/optimizer_v2/optimizer_v2.py:375: UserWarning: The `lr` argument is deprecated, use `learning_rate` instead.\n",
            "  \"The `lr` argument is deprecated, use `learning_rate` instead.\")\n"
          ],
          "name": "stderr"
        },
        {
          "output_type": "stream",
          "text": [
            "Epoch 1/20\n",
            " 99/194 [==============>...............] - ETA: 1:04 - loss: 1.0834 - accuracy: 0.4829"
          ],
          "name": "stdout"
        },
        {
          "output_type": "stream",
          "text": [
            "/usr/local/lib/python3.7/dist-packages/PIL/Image.py:960: UserWarning: Palette images with Transparency expressed in bytes should be converted to RGBA images\n",
            "  \"Palette images with Transparency expressed in bytes should be \"\n"
          ],
          "name": "stderr"
        },
        {
          "output_type": "stream",
          "text": [
            "194/194 [==============================] - 173s 733ms/step - loss: 0.9294 - accuracy: 0.5753 - val_loss: 0.6296 - val_accuracy: 0.7544\n",
            "Epoch 2/20\n",
            "194/194 [==============================] - 141s 727ms/step - loss: 0.6725 - accuracy: 0.7161 - val_loss: 0.5275 - val_accuracy: 0.7909\n",
            "Epoch 3/20\n",
            "194/194 [==============================] - 141s 728ms/step - loss: 0.6021 - accuracy: 0.7538 - val_loss: 0.4966 - val_accuracy: 0.7935\n",
            "Epoch 4/20\n",
            "194/194 [==============================] - 141s 724ms/step - loss: 0.5620 - accuracy: 0.7690 - val_loss: 0.4729 - val_accuracy: 0.8049\n",
            "Epoch 5/20\n",
            "194/194 [==============================] - 139s 718ms/step - loss: 0.5261 - accuracy: 0.7901 - val_loss: 0.4881 - val_accuracy: 0.7931\n",
            "Epoch 6/20\n",
            "194/194 [==============================] - 140s 720ms/step - loss: 0.5058 - accuracy: 0.7984 - val_loss: 0.4127 - val_accuracy: 0.8423\n",
            "Epoch 7/20\n",
            "194/194 [==============================] - 140s 718ms/step - loss: 0.4926 - accuracy: 0.8052 - val_loss: 0.4435 - val_accuracy: 0.8339\n",
            "Epoch 8/20\n",
            "194/194 [==============================] - 140s 719ms/step - loss: 0.4737 - accuracy: 0.8147 - val_loss: 0.4199 - val_accuracy: 0.8401\n",
            "Epoch 9/20\n",
            "194/194 [==============================] - 139s 714ms/step - loss: 0.4610 - accuracy: 0.8169 - val_loss: 0.4146 - val_accuracy: 0.8462\n",
            "Epoch 10/20\n",
            "194/194 [==============================] - 137s 708ms/step - loss: 0.4428 - accuracy: 0.8273 - val_loss: 0.4411 - val_accuracy: 0.8366\n",
            "Epoch 11/20\n",
            "194/194 [==============================] - 135s 698ms/step - loss: 0.4417 - accuracy: 0.8252 - val_loss: 0.4425 - val_accuracy: 0.8322\n",
            "Epoch 12/20\n",
            "194/194 [==============================] - 134s 693ms/step - loss: 0.4376 - accuracy: 0.8270 - val_loss: 0.4868 - val_accuracy: 0.8111\n",
            "Epoch 13/20\n",
            "194/194 [==============================] - 133s 688ms/step - loss: 0.4167 - accuracy: 0.8397 - val_loss: 0.4396 - val_accuracy: 0.8348\n",
            "Epoch 14/20\n",
            "194/194 [==============================] - 133s 685ms/step - loss: 0.4132 - accuracy: 0.8396 - val_loss: 0.4370 - val_accuracy: 0.8431\n",
            "Epoch 15/20\n",
            "194/194 [==============================] - 133s 686ms/step - loss: 0.4128 - accuracy: 0.8384 - val_loss: 0.4156 - val_accuracy: 0.8554\n",
            "Epoch 16/20\n",
            "194/194 [==============================] - 133s 687ms/step - loss: 0.4024 - accuracy: 0.8411 - val_loss: 0.4025 - val_accuracy: 0.8572\n",
            "Epoch 17/20\n",
            "194/194 [==============================] - 133s 687ms/step - loss: 0.3883 - accuracy: 0.8490 - val_loss: 0.4211 - val_accuracy: 0.8541\n",
            "Epoch 18/20\n",
            "194/194 [==============================] - 133s 686ms/step - loss: 0.3854 - accuracy: 0.8480 - val_loss: 0.4517 - val_accuracy: 0.8445\n",
            "Epoch 19/20\n",
            "194/194 [==============================] - 133s 686ms/step - loss: 0.3800 - accuracy: 0.8530 - val_loss: 0.4377 - val_accuracy: 0.8480\n",
            "Epoch 20/20\n",
            "194/194 [==============================] - 134s 689ms/step - loss: 0.3788 - accuracy: 0.8567 - val_loss: 0.4387 - val_accuracy: 0.8423\n",
            "[INFO] evaluating network...\n",
            "[INFO] saving mask detector model...\n"
          ],
          "name": "stdout"
        },
        {
          "output_type": "stream",
          "text": [
            "/usr/local/lib/python3.7/dist-packages/tensorflow/python/keras/utils/generic_utils.py:497: CustomMaskWarning: Custom mask layers require a config and must override get_config. When loading, the custom mask layer must be passed to the custom_objects argument.\n",
            "  category=CustomMaskWarning)\n"
          ],
          "name": "stderr"
        }
      ]
    }
  ]
}